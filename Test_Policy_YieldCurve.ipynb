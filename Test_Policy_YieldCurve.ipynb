{
 "cells": [
  {
   "cell_type": "code",
   "execution_count": 1,
   "metadata": {},
   "outputs": [],
   "source": [
    "\n",
    "from importlib import reload\n",
    "import PolicyManager\n",
    "from PolicyManager import YieldCurvePolicy\n",
    "import configparser\n",
    "from configparser import ExtendedInterpolation\n",
    "import re\n",
    "import SignalManager\n",
    "from Utilities import helper\n",
    "# "
   ]
  },
  {
   "cell_type": "code",
   "execution_count": 9,
   "metadata": {},
   "outputs": [],
   "source": [
    "reload(YieldCurvePolicy)\n",
    "reload(PolicyManager)\n",
    "\n",
    "obj1 = YieldCurvePolicy.YieldCurveRegimePolicy(configFile='/Users/ankitgupta/Documents/git/anks/QuantTrader/Config/YieldCurveConfig.ini')"
   ]
  },
  {
   "cell_type": "code",
   "execution_count": 10,
   "metadata": {},
   "outputs": [
    {
     "data": {
      "text/plain": [
       "dict_keys(['EXIT_Stoploss', 'EXIT_Maxgain', 'EXIT_MaxTime', 'EXIT_MaxDaysRegimeCondition', 'ENTRY_Fresh', 'ENTRY_More1', 'ENTRY_More2'])"
      ]
     },
     "execution_count": 10,
     "metadata": {},
     "output_type": "execute_result"
    }
   ],
   "source": [
    "obj1.AllPolicies.keys()"
   ]
  },
  {
   "cell_type": "code",
   "execution_count": 11,
   "metadata": {},
   "outputs": [],
   "source": [
    "\n",
    " \n",
    "currentAssetLevelInfo={'NIFTY CONSR DURBL': {'currentPosition': 0.0, 'runningDays': 0, 'runningPerformance': 0, 'DaysSinceLastTrade': 0}, \n",
    "'NIFTY BANK': {'currentPosition': 0.0, 'runningDays': 0, 'runningPerformance': 0, 'DaysSinceLastTrade': 0}, \n",
    "'NIFTY MIDCAP 50': {'currentPosition': 0.0, 'runningDays': 0, 'runningPerformance': 0, 'DaysSinceLastTrade': 0}, \n",
    "'NIFTY INFRA': {'currentPosition': 0.0, 'runningDays': 0, 'runningPerformance': 0, 'DaysSinceLastTrade': 0}\n",
    "\n",
    "}\n",
    "\n",
    "\n",
    "currentPortfolioInfo={'runningCash': 1000000, 'runningCash_pct': 1.0}\n",
    "currentMarketInfo={'Nifty 50_M_cumRet': -0.061334358777158086, \n",
    "'Nifty 50_M_stddev': 0.15075345670699544, 'Nifty 50_Q_cumRet': 0.03614406689729832, \n",
    "'state_0_prob': 0.002796360233130759, 'state_1_prob': 0.7805286601876908, 'state_2_prob': 0.17964382987329036, \n",
    "'state_3_prob': 0.03703114970588768, 'MaxProb': 0.7805286601876908, \n",
    "'prevState': 1.0, 'states_smooth': 1.0, 'CurrentState': 'Risk On', 'actual_state_after_1month': 'Risk Off', \n",
    "'actual_state_after_2month': 'Risk On', 'prob_AdjRiskOff_1M': 0.9406849429942667, 'prob_AdjRiskOn_1M': 0.05931502266321331, \n",
    "'Pred_regimes_1M': 'Risk Off', 'prob_AdjRiskOff_2M': 0.021052631578947368, 'prob_AdjRiskOn_2M': 0.9789473684210528, \n",
    "'Pred_regimes_2M': 'Risk On', 'prob_AdjRiskOff_3M': 0.04021179233677685, 'prob_AdjRiskOn_3M': 0.9597881624940784, \n",
    "'Pred_regimes_3M': 'Risk On', 'Prob_ROn_next1M': 0.05931502266321331, 'Prob_ROff_next1M': 0.9406849429942667, \n",
    "'Proposed_Next_1M': 'Risk Off', 'Prob_ROn_next2M': 0.05806628534398778, 'Prob_ROff_next2M': 0.01980389353672141, \n",
    "'Proposed_Next_2M': 'Maybe Risk On', 'Prob_ROn_next3M': 0.940780586944696, 'Prob_ROff_next3M': 0.037876841547782106, \n",
    "'Proposed_Next_3M': 'Risk On'}\n",
    "\n"
   ]
  },
  {
   "cell_type": "code",
   "execution_count": 12,
   "metadata": {},
   "outputs": [
    {
     "data": {
      "text/plain": [
       "['NIFTY CONSR DURBL', 'NIFTY BANK', 'NIFTY MIDCAP 50', 'NIFTY INFRA']"
      ]
     },
     "execution_count": 12,
     "metadata": {},
     "output_type": "execute_result"
    }
   ],
   "source": [
    "obj1.Signals.Market.next2m_riskon_enter.assetstoConsider"
   ]
  },
  {
   "cell_type": "code",
   "execution_count": 13,
   "metadata": {},
   "outputs": [],
   "source": [
    "a = obj1.checkAssetLevelSignals(assetList=obj1.listAllAssets, currentAssetLevelInfo = currentAssetLevelInfo)\n",
    "b = obj1.checkPortfolioLevelSignals(currentPortfolioInfo= currentPortfolioInfo)\n",
    "c = obj1.checkMarketLevelSignals(currentMarketInfo=  currentMarketInfo)\n",
    "\n"
   ]
  },
  {
   "cell_type": "code",
   "execution_count": 14,
   "metadata": {},
   "outputs": [
    {
     "data": {
      "text/plain": [
       "{'NIFTY CONSR DURBL': {'EXIT_Stoploss': False,\n",
       "  'EXIT_Maxgain': False,\n",
       "  'EXIT_MaxTime': False,\n",
       "  'EXIT_MaxDaysRegimeCondition': False,\n",
       "  'ENTRY_Fresh': True,\n",
       "  'ENTRY_More1': False,\n",
       "  'ENTRY_More2': False},\n",
       " 'NIFTY BANK': {'EXIT_Stoploss': False,\n",
       "  'EXIT_Maxgain': False,\n",
       "  'EXIT_MaxTime': False,\n",
       "  'EXIT_MaxDaysRegimeCondition': False,\n",
       "  'ENTRY_Fresh': True,\n",
       "  'ENTRY_More1': False,\n",
       "  'ENTRY_More2': False},\n",
       " 'NIFTY MIDCAP 50': {'EXIT_Stoploss': False,\n",
       "  'EXIT_Maxgain': False,\n",
       "  'EXIT_MaxTime': False,\n",
       "  'EXIT_MaxDaysRegimeCondition': False,\n",
       "  'ENTRY_Fresh': True,\n",
       "  'ENTRY_More1': False,\n",
       "  'ENTRY_More2': False},\n",
       " 'NIFTY INFRA': {'EXIT_Stoploss': False,\n",
       "  'EXIT_Maxgain': False,\n",
       "  'EXIT_MaxTime': False,\n",
       "  'EXIT_MaxDaysRegimeCondition': False,\n",
       "  'ENTRY_Fresh': True,\n",
       "  'ENTRY_More1': False,\n",
       "  'ENTRY_More2': False}}"
      ]
     },
     "execution_count": 14,
     "metadata": {},
     "output_type": "execute_result"
    }
   ],
   "source": [
    "policyCheck = obj1.checkEntryExitPolicy(currentAssetLevelInfo=currentAssetLevelInfo, currentPortfolioInfo=currentPortfolioInfo, currentMarketInfo=currentMarketInfo)\n",
    "policyCheck\n"
   ]
  },
  {
   "cell_type": "code",
   "execution_count": 7,
   "metadata": {},
   "outputs": [
    {
     "data": {
      "text/plain": [
       "({'NIFTY CONSR DURBL': 0,\n",
       "  'NIFTY BANK': -1,\n",
       "  'NIFTY MIDCAP 50': -1,\n",
       "  'NIFTY INFRA': 0},\n",
       " {'NIFTY CONSR DURBL': [],\n",
       "  'NIFTY BANK': ['EXIT_Maxgain'],\n",
       "  'NIFTY MIDCAP 50': ['EXIT_Stoploss'],\n",
       "  'NIFTY INFRA': []})"
      ]
     },
     "execution_count": 7,
     "metadata": {},
     "output_type": "execute_result"
    }
   ],
   "source": [
    "obj1.getAction(assetLevelState=currentAssetLevelInfo, portfolioLevelState=currentPortfolioInfo, marketLevelState=currentMarketInfo)"
   ]
  },
  {
   "cell_type": "code",
   "execution_count": null,
   "metadata": {},
   "outputs": [],
   "source": []
  }
 ],
 "metadata": {
  "kernelspec": {
   "display_name": "virtualenv",
   "language": "python",
   "name": "python3"
  },
  "language_info": {
   "codemirror_mode": {
    "name": "ipython",
    "version": 3
   },
   "file_extension": ".py",
   "mimetype": "text/x-python",
   "name": "python",
   "nbconvert_exporter": "python",
   "pygments_lexer": "ipython3",
   "version": "3.6.8 |Anaconda, Inc.| (default, Dec 29 2018, 19:04:46) \n[GCC 4.2.1 Compatible Clang 4.0.1 (tags/RELEASE_401/final)]"
  },
  "orig_nbformat": 4,
  "vscode": {
   "interpreter": {
    "hash": "1e8e6832c36500ce52845a59ec9cf9f7314b331f65f8fe4cf4f25f32471b3f0f"
   }
  }
 },
 "nbformat": 4,
 "nbformat_minor": 2
}
