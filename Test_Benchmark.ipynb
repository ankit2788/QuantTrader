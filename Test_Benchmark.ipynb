{
 "cells": [
  {
   "cell_type": "code",
   "execution_count": 1,
   "metadata": {},
   "outputs": [],
   "source": [
    "from importlib import reload"
   ]
  },
  {
   "cell_type": "code",
   "execution_count": 2,
   "metadata": {},
   "outputs": [],
   "source": [
    "import BenchmarkManager"
   ]
  },
  {
   "cell_type": "code",
   "execution_count": 57,
   "metadata": {},
   "outputs": [
    {
     "data": {
      "text/plain": [
       "<module 'BenchmarkManager' from '/Users/ankitgupta/Documents/git/anks/QuantTrader/BenchmarkManager.py'>"
      ]
     },
     "execution_count": 57,
     "metadata": {},
     "output_type": "execute_result"
    }
   ],
   "source": [
    "reload(BenchmarkManager)"
   ]
  },
  {
   "cell_type": "code",
   "execution_count": 58,
   "metadata": {},
   "outputs": [],
   "source": [
    "bm = BenchmarkManager.CompositeBenchmark(benchmarkDetails={\"assets\": [\"NIFTY50\"], \\\n",
    "                                                           \"weights\": [1], \\\n",
    "                                                            \"pricePath\": \"/Users/ankitgupta/Documents/git/anks/Investing/data/\"})"
   ]
  },
  {
   "cell_type": "code",
   "execution_count": 59,
   "metadata": {},
   "outputs": [],
   "source": [
    "import datetime\n",
    "data = bm.loadBenchmarkData(startDate=datetime.date(2015,1,5), endDate=datetime.date(2020,12,31))"
   ]
  },
  {
   "cell_type": "code",
   "execution_count": 60,
   "metadata": {},
   "outputs": [
    {
     "data": {
      "text/html": [
       "<div>\n",
       "<style scoped>\n",
       "    .dataframe tbody tr th:only-of-type {\n",
       "        vertical-align: middle;\n",
       "    }\n",
       "\n",
       "    .dataframe tbody tr th {\n",
       "        vertical-align: top;\n",
       "    }\n",
       "\n",
       "    .dataframe thead th {\n",
       "        text-align: right;\n",
       "    }\n",
       "</style>\n",
       "<table border=\"1\" class=\"dataframe\">\n",
       "  <thead>\n",
       "    <tr style=\"text-align: right;\">\n",
       "      <th></th>\n",
       "      <th>Price_NIFTY50</th>\n",
       "      <th>Holdings_NIFTY50</th>\n",
       "      <th>Value_NIFTY50</th>\n",
       "      <th>Cash</th>\n",
       "      <th>TotalValue</th>\n",
       "      <th>Price</th>\n",
       "    </tr>\n",
       "    <tr>\n",
       "      <th>Date</th>\n",
       "      <th></th>\n",
       "      <th></th>\n",
       "      <th></th>\n",
       "      <th></th>\n",
       "      <th></th>\n",
       "      <th></th>\n",
       "    </tr>\n",
       "  </thead>\n",
       "  <tbody>\n",
       "    <tr>\n",
       "      <th>2015-01-05</th>\n",
       "      <td>8378.40</td>\n",
       "      <td>11935.45307</td>\n",
       "      <td>1.000000e+08</td>\n",
       "      <td>0.0</td>\n",
       "      <td>1.000000e+08</td>\n",
       "      <td>100.0000</td>\n",
       "    </tr>\n",
       "    <tr>\n",
       "      <th>2015-01-06</th>\n",
       "      <td>8127.35</td>\n",
       "      <td>11935.45307</td>\n",
       "      <td>9.700360e+07</td>\n",
       "      <td>0.0</td>\n",
       "      <td>9.700360e+07</td>\n",
       "      <td>97.0036</td>\n",
       "    </tr>\n",
       "    <tr>\n",
       "      <th>2015-01-07</th>\n",
       "      <td>8102.10</td>\n",
       "      <td>11935.45307</td>\n",
       "      <td>9.670223e+07</td>\n",
       "      <td>0.0</td>\n",
       "      <td>9.670223e+07</td>\n",
       "      <td>96.7022</td>\n",
       "    </tr>\n",
       "    <tr>\n",
       "      <th>2015-01-08</th>\n",
       "      <td>8234.60</td>\n",
       "      <td>11935.45307</td>\n",
       "      <td>9.828368e+07</td>\n",
       "      <td>0.0</td>\n",
       "      <td>9.828368e+07</td>\n",
       "      <td>98.2837</td>\n",
       "    </tr>\n",
       "    <tr>\n",
       "      <th>2015-01-09</th>\n",
       "      <td>8284.50</td>\n",
       "      <td>11935.45307</td>\n",
       "      <td>9.887926e+07</td>\n",
       "      <td>0.0</td>\n",
       "      <td>9.887926e+07</td>\n",
       "      <td>98.8793</td>\n",
       "    </tr>\n",
       "    <tr>\n",
       "      <th>...</th>\n",
       "      <td>...</td>\n",
       "      <td>...</td>\n",
       "      <td>...</td>\n",
       "      <td>...</td>\n",
       "      <td>...</td>\n",
       "      <td>...</td>\n",
       "    </tr>\n",
       "    <tr>\n",
       "      <th>2020-12-25</th>\n",
       "      <td>13749.25</td>\n",
       "      <td>11935.45307</td>\n",
       "      <td>1.641035e+08</td>\n",
       "      <td>0.0</td>\n",
       "      <td>1.641035e+08</td>\n",
       "      <td>164.1035</td>\n",
       "    </tr>\n",
       "    <tr>\n",
       "      <th>2020-12-28</th>\n",
       "      <td>13873.20</td>\n",
       "      <td>11935.45307</td>\n",
       "      <td>1.655829e+08</td>\n",
       "      <td>0.0</td>\n",
       "      <td>1.655829e+08</td>\n",
       "      <td>165.5829</td>\n",
       "    </tr>\n",
       "    <tr>\n",
       "      <th>2020-12-29</th>\n",
       "      <td>13932.60</td>\n",
       "      <td>11935.45307</td>\n",
       "      <td>1.662919e+08</td>\n",
       "      <td>0.0</td>\n",
       "      <td>1.662919e+08</td>\n",
       "      <td>166.2919</td>\n",
       "    </tr>\n",
       "    <tr>\n",
       "      <th>2020-12-30</th>\n",
       "      <td>13981.95</td>\n",
       "      <td>11935.45307</td>\n",
       "      <td>1.668809e+08</td>\n",
       "      <td>0.0</td>\n",
       "      <td>1.668809e+08</td>\n",
       "      <td>166.8809</td>\n",
       "    </tr>\n",
       "    <tr>\n",
       "      <th>2020-12-31</th>\n",
       "      <td>13981.75</td>\n",
       "      <td>11935.45307</td>\n",
       "      <td>1.668785e+08</td>\n",
       "      <td>0.0</td>\n",
       "      <td>1.668785e+08</td>\n",
       "      <td>166.8785</td>\n",
       "    </tr>\n",
       "  </tbody>\n",
       "</table>\n",
       "<p>1564 rows × 6 columns</p>\n",
       "</div>"
      ],
      "text/plain": [
       "            Price_NIFTY50  Holdings_NIFTY50  Value_NIFTY50  Cash  \\\n",
       "Date                                                               \n",
       "2015-01-05        8378.40       11935.45307   1.000000e+08   0.0   \n",
       "2015-01-06        8127.35       11935.45307   9.700360e+07   0.0   \n",
       "2015-01-07        8102.10       11935.45307   9.670223e+07   0.0   \n",
       "2015-01-08        8234.60       11935.45307   9.828368e+07   0.0   \n",
       "2015-01-09        8284.50       11935.45307   9.887926e+07   0.0   \n",
       "...                   ...               ...            ...   ...   \n",
       "2020-12-25       13749.25       11935.45307   1.641035e+08   0.0   \n",
       "2020-12-28       13873.20       11935.45307   1.655829e+08   0.0   \n",
       "2020-12-29       13932.60       11935.45307   1.662919e+08   0.0   \n",
       "2020-12-30       13981.95       11935.45307   1.668809e+08   0.0   \n",
       "2020-12-31       13981.75       11935.45307   1.668785e+08   0.0   \n",
       "\n",
       "              TotalValue     Price  \n",
       "Date                                \n",
       "2015-01-05  1.000000e+08  100.0000  \n",
       "2015-01-06  9.700360e+07   97.0036  \n",
       "2015-01-07  9.670223e+07   96.7022  \n",
       "2015-01-08  9.828368e+07   98.2837  \n",
       "2015-01-09  9.887926e+07   98.8793  \n",
       "...                  ...       ...  \n",
       "2020-12-25  1.641035e+08  164.1035  \n",
       "2020-12-28  1.655829e+08  165.5829  \n",
       "2020-12-29  1.662919e+08  166.2919  \n",
       "2020-12-30  1.668809e+08  166.8809  \n",
       "2020-12-31  1.668785e+08  166.8785  \n",
       "\n",
       "[1564 rows x 6 columns]"
      ]
     },
     "execution_count": 60,
     "metadata": {},
     "output_type": "execute_result"
    }
   ],
   "source": [
    "data"
   ]
  },
  {
   "cell_type": "code",
   "execution_count": null,
   "metadata": {},
   "outputs": [],
   "source": []
  }
 ],
 "metadata": {
  "kernelspec": {
   "display_name": "base",
   "language": "python",
   "name": "python3"
  },
  "language_info": {
   "codemirror_mode": {
    "name": "ipython",
    "version": 3
   },
   "file_extension": ".py",
   "mimetype": "text/x-python",
   "name": "python",
   "nbconvert_exporter": "python",
   "pygments_lexer": "ipython3",
   "version": "3.6.8"
  },
  "orig_nbformat": 4,
  "vscode": {
   "interpreter": {
    "hash": "ae5c4424ca93d93dad45917c5440169dd89f463ffb0e1e3dc1d20f7ac9f86e39"
   }
  }
 },
 "nbformat": 4,
 "nbformat_minor": 2
}
