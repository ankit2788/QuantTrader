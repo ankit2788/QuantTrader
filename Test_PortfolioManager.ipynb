{
 "cells": [
  {
   "cell_type": "code",
   "execution_count": 33,
   "metadata": {},
   "outputs": [],
   "source": [
    "import PortfolioUtilsManager1\n",
    "from importlib import reload\n"
   ]
  },
  {
   "cell_type": "code",
   "execution_count": 74,
   "metadata": {},
   "outputs": [
    {
     "data": {
      "text/plain": [
       "<module 'PortfolioUtilsManager1' from '/Users/ankitgupta/Documents/git/anks/QuantTrader/PortfolioUtilsManager1.py'>"
      ]
     },
     "execution_count": 74,
     "metadata": {},
     "output_type": "execute_result"
    }
   ],
   "source": [
    "reload(PortfolioUtilsManager1)"
   ]
  },
  {
   "cell_type": "code",
   "execution_count": 75,
   "metadata": {},
   "outputs": [],
   "source": [
    "objPort = PortfolioUtilsManager1.PortfolioManager(listAssets=[\"A\", \"B\", \"C\"], initialCash=100000, transaction_cost=0.0003)"
   ]
  },
  {
   "cell_type": "code",
   "execution_count": 76,
   "metadata": {},
   "outputs": [],
   "source": [
    "objPort.update(date = \"20200101\", newTrade={\n",
    "                        \"A\": {\"Quantity\": 100, \"Price\": 20}, \n",
    "                        \"B\": {\"Quantity\": 50, \"Price\": 120}\n",
    "                    }, \n",
    "                currentPrice={\"A\": 20, \"B\": 120, \"C\": 45.5})\n",
    "\n",
    "# objPort.PortfolioValue.all, objPort.runningCash.current, objPort.Position.current                "
   ]
  },
  {
   "cell_type": "code",
   "execution_count": 77,
   "metadata": {},
   "outputs": [
    {
     "data": {
      "text/html": [
       "<div>\n",
       "<style scoped>\n",
       "    .dataframe tbody tr th:only-of-type {\n",
       "        vertical-align: middle;\n",
       "    }\n",
       "\n",
       "    .dataframe tbody tr th {\n",
       "        vertical-align: top;\n",
       "    }\n",
       "\n",
       "    .dataframe thead th {\n",
       "        text-align: right;\n",
       "    }\n",
       "</style>\n",
       "<table border=\"1\" class=\"dataframe\">\n",
       "  <thead>\n",
       "    <tr style=\"text-align: right;\">\n",
       "      <th></th>\n",
       "      <th>Date</th>\n",
       "      <th>Cash_weight</th>\n",
       "      <th>A</th>\n",
       "      <th>A_Weight</th>\n",
       "      <th>B</th>\n",
       "      <th>B_Weight</th>\n",
       "      <th>C</th>\n",
       "      <th>C_Weight</th>\n",
       "    </tr>\n",
       "  </thead>\n",
       "  <tbody>\n",
       "    <tr>\n",
       "      <th>0</th>\n",
       "      <td>20200101</td>\n",
       "      <td>0.92</td>\n",
       "      <td>100</td>\n",
       "      <td>0.02</td>\n",
       "      <td>50</td>\n",
       "      <td>0.060001</td>\n",
       "      <td>0</td>\n",
       "      <td>0.0</td>\n",
       "    </tr>\n",
       "  </tbody>\n",
       "</table>\n",
       "</div>"
      ],
      "text/plain": [
       "       Date  Cash_weight    A  A_Weight   B  B_Weight  C  C_Weight\n",
       "0  20200101         0.92  100      0.02  50  0.060001  0       0.0"
      ]
     },
     "execution_count": 77,
     "metadata": {},
     "output_type": "execute_result"
    }
   ],
   "source": [
    "objPort.DailyAssetHoldings"
   ]
  },
  {
   "cell_type": "code",
   "execution_count": 78,
   "metadata": {},
   "outputs": [
    {
     "data": {
      "text/html": [
       "<div>\n",
       "<style scoped>\n",
       "    .dataframe tbody tr th:only-of-type {\n",
       "        vertical-align: middle;\n",
       "    }\n",
       "\n",
       "    .dataframe tbody tr th {\n",
       "        vertical-align: top;\n",
       "    }\n",
       "\n",
       "    .dataframe thead th {\n",
       "        text-align: right;\n",
       "    }\n",
       "</style>\n",
       "<table border=\"1\" class=\"dataframe\">\n",
       "  <thead>\n",
       "    <tr style=\"text-align: right;\">\n",
       "      <th></th>\n",
       "      <th>Date</th>\n",
       "      <th>Asset</th>\n",
       "      <th>Quantity</th>\n",
       "      <th>Price</th>\n",
       "      <th>Cost</th>\n",
       "    </tr>\n",
       "  </thead>\n",
       "  <tbody>\n",
       "    <tr>\n",
       "      <th>0</th>\n",
       "      <td>20200101</td>\n",
       "      <td>A</td>\n",
       "      <td>100</td>\n",
       "      <td>20</td>\n",
       "      <td>0.6</td>\n",
       "    </tr>\n",
       "    <tr>\n",
       "      <th>1</th>\n",
       "      <td>20200101</td>\n",
       "      <td>B</td>\n",
       "      <td>50</td>\n",
       "      <td>120</td>\n",
       "      <td>1.8</td>\n",
       "    </tr>\n",
       "  </tbody>\n",
       "</table>\n",
       "</div>"
      ],
      "text/plain": [
       "       Date Asset Quantity Price  Cost\n",
       "0  20200101     A      100    20   0.6\n",
       "1  20200101     B       50   120   1.8"
      ]
     },
     "execution_count": 78,
     "metadata": {},
     "output_type": "execute_result"
    }
   ],
   "source": [
    "objPort.Trades"
   ]
  },
  {
   "cell_type": "code",
   "execution_count": 79,
   "metadata": {},
   "outputs": [
    {
     "data": {
      "text/html": [
       "<div>\n",
       "<style scoped>\n",
       "    .dataframe tbody tr th:only-of-type {\n",
       "        vertical-align: middle;\n",
       "    }\n",
       "\n",
       "    .dataframe tbody tr th {\n",
       "        vertical-align: top;\n",
       "    }\n",
       "\n",
       "    .dataframe thead th {\n",
       "        text-align: right;\n",
       "    }\n",
       "</style>\n",
       "<table border=\"1\" class=\"dataframe\">\n",
       "  <thead>\n",
       "    <tr style=\"text-align: right;\">\n",
       "      <th></th>\n",
       "      <th>Date</th>\n",
       "      <th>Cash</th>\n",
       "      <th>A</th>\n",
       "      <th>B</th>\n",
       "      <th>C</th>\n",
       "      <th>Cost</th>\n",
       "      <th>PortfolioValue</th>\n",
       "    </tr>\n",
       "  </thead>\n",
       "  <tbody>\n",
       "    <tr>\n",
       "      <th>0</th>\n",
       "      <td>20200101</td>\n",
       "      <td>91997.6</td>\n",
       "      <td>2000</td>\n",
       "      <td>6000</td>\n",
       "      <td>0.0</td>\n",
       "      <td>2.4</td>\n",
       "      <td>99997.6</td>\n",
       "    </tr>\n",
       "  </tbody>\n",
       "</table>\n",
       "</div>"
      ],
      "text/plain": [
       "       Date     Cash     A     B    C  Cost  PortfolioValue\n",
       "0  20200101  91997.6  2000  6000  0.0   2.4         99997.6"
      ]
     },
     "execution_count": 79,
     "metadata": {},
     "output_type": "execute_result"
    }
   ],
   "source": [
    "objPort.DailyPortfolioDetails"
   ]
  },
  {
   "cell_type": "code",
   "execution_count": 80,
   "metadata": {},
   "outputs": [],
   "source": [
    "objPort.update(date = \"20200102\", newTrade={\n",
    "                        \"A\": {\"Quantity\": 100, \"Price\": 20}, \n",
    "                        \"B\": {\"Quantity\": -50, \"Price\": 140}\n",
    "                    }, \n",
    "                currentPrice={\"A\": 20, \"B\": 140, \"C\": 45.5})\n",
    "\n"
   ]
  },
  {
   "cell_type": "code",
   "execution_count": 81,
   "metadata": {},
   "outputs": [
    {
     "name": "stdout",
     "output_type": "stream",
     "text": [
      "       Date     Cash     A     B    C  Cost  PortfolioValue\n",
      "0  20200101  91997.6  2000  6000  0.0   2.4         99997.6\n",
      "1  20200102  96994.9  4000     0  0.0   5.1        100994.9\n",
      "       Date  Cash_weight    A  A_Weight   B  B_Weight  C  C_Weight\n",
      "0  20200101         0.92  100  0.020000  50  0.060001  0       0.0\n",
      "1  20200102         0.96  200  0.039606   0  0.000000  0       0.0\n",
      "       Date    A    B  C\n",
      "0  20200101  0.0  0.0  0\n",
      "1  20200102  0.0  0.0  0\n",
      "       Date  A  B  C\n",
      "0  20200101  1  1  0\n",
      "1  20200102  2  0  0\n"
     ]
    }
   ],
   "source": [
    "print(objPort.DailyPortfolioDetails)\n",
    "print(objPort.DailyAssetHoldings)\n",
    "print(objPort.DailyRunningPerformance)\n",
    "print(objPort.DailyHoldingPeriod)"
   ]
  },
  {
   "cell_type": "code",
   "execution_count": 82,
   "metadata": {},
   "outputs": [],
   "source": [
    "objPort.update(date = \"20200102\", newTrade={\n",
    "                        }, \n",
    "                currentPrice={\"A\": 30, \"B\": 140, \"C\": 45.5})\n",
    "\n"
   ]
  },
  {
   "cell_type": "code",
   "execution_count": 83,
   "metadata": {},
   "outputs": [
    {
     "name": "stdout",
     "output_type": "stream",
     "text": [
      "       Date     Cash     A     B    C  Cost  PortfolioValue\n",
      "0  20200101  91997.6  2000  6000  0.0   2.4         99997.6\n",
      "1  20200102  96994.9  4000     0  0.0   5.1        100994.9\n",
      "2  20200102  96994.9  6000     0  0.0   5.1        102994.9\n",
      "       Date  Cash_weight    A  A_Weight   B  B_Weight  C  C_Weight\n",
      "0  20200101         0.92  100  0.020000  50  0.060001  0       0.0\n",
      "1  20200102         0.96  200  0.039606   0  0.000000  0       0.0\n",
      "2  20200102         0.94  200  0.058255   0  0.000000  0       0.0\n",
      "       Date    A    B  C\n",
      "0  20200101  0.0  0.0  0\n",
      "1  20200102  0.0  0.0  0\n",
      "2  20200102  0.5  0.0  0\n",
      "       Date  A  B  C\n",
      "0  20200101  1  1  0\n",
      "1  20200102  2  0  0\n",
      "2  20200102  3  0  0\n"
     ]
    }
   ],
   "source": [
    "print(objPort.DailyPortfolioDetails)\n",
    "print(objPort.DailyAssetHoldings)\n",
    "print(objPort.DailyRunningPerformance)\n",
    "print(objPort.DailyHoldingPeriod)"
   ]
  },
  {
   "cell_type": "code",
   "execution_count": null,
   "metadata": {},
   "outputs": [],
   "source": []
  }
 ],
 "metadata": {
  "kernelspec": {
   "display_name": "base",
   "language": "python",
   "name": "python3"
  },
  "language_info": {
   "codemirror_mode": {
    "name": "ipython",
    "version": 3
   },
   "file_extension": ".py",
   "mimetype": "text/x-python",
   "name": "python",
   "nbconvert_exporter": "python",
   "pygments_lexer": "ipython3",
   "version": "3.6.8 |Anaconda, Inc.| (default, Dec 29 2018, 19:04:46) \n[GCC 4.2.1 Compatible Clang 4.0.1 (tags/RELEASE_401/final)]"
  },
  "orig_nbformat": 4,
  "vscode": {
   "interpreter": {
    "hash": "ae5c4424ca93d93dad45917c5440169dd89f463ffb0e1e3dc1d20f7ac9f86e39"
   }
  }
 },
 "nbformat": 4,
 "nbformat_minor": 2
}
